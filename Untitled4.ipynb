{
 "cells": [
  {
   "cell_type": "markdown",
   "metadata": {},
   "source": [
    "\n",
    "    "
   ]
  },
  {
   "cell_type": "code",
   "execution_count": 11,
   "metadata": {},
   "outputs": [
    {
     "name": "stdout",
     "output_type": "stream",
     "text": [
      "[49, 41344437041296, 17420088892644, 98835768457924, 7533191451556, 29073858112324, 33792457144384, 89342099889025, 49, 42482016659329, 17101706847241, 41199876576369, 98504791301764, 87806869963024, 63053922422500, 4108797918289, 49, 2269542250000, 11978057230489, 2403380480656, 13538639301121, 20600460345529, 27213134657641, 31873476835600, 49, 55406630134969, 26844232424164, 77517741101056, 76155223076416, 28717241169409, 51197974636176, 19652597265625, 49, 4975375608025, 15369300936900, 61653778368064, 1385025350641, 372661411600, 96075821521, 15378444599296, 49, 72570447531241, 74639940792481, 11381379376900, 25367853295801, 27996935011369, 5330067985636, 55919885761600, 49, 51525076541409, 62171931649, 90344568760576, 75422207683216, 38770883797129, 1113571557081, 23818655550096]\n"
     ]
    }
   ],
   "source": [
    "#squarelist=[i**2 for sublist in newlist for i in sublist]\n",
    "#print(squarelist)\n",
    "#print((sum(squarelist))%M)\n",
    "K,M=list(map(int,input().split()))\n",
    "newlist=(list(map(lambda c: c**2,map(int,input().split())))for i in range(K))\n",
    "newlist\n",
    "    "
   ]
  },
  {
   "cell_type": "code",
   "execution_count": 19,
   "metadata": {},
   "outputs": [
    {
     "data": {
      "text/plain": [
       "[[41344437041296,\n",
       "  17420088892644,\n",
       "  98835768457924,\n",
       "  7533191451556,\n",
       "  29073858112324,\n",
       "  33792457144384,\n",
       "  89342099889025],\n",
       " [42482016659329,\n",
       "  17101706847241,\n",
       "  41199876576369,\n",
       "  98504791301764,\n",
       "  87806869963024,\n",
       "  63053922422500,\n",
       "  4108797918289],\n",
       " [2269542250000,\n",
       "  11978057230489,\n",
       "  2403380480656,\n",
       "  13538639301121,\n",
       "  20600460345529,\n",
       "  27213134657641,\n",
       "  31873476835600],\n",
       " [55406630134969,\n",
       "  26844232424164,\n",
       "  77517741101056,\n",
       "  76155223076416,\n",
       "  28717241169409,\n",
       "  51197974636176,\n",
       "  19652597265625],\n",
       " [4975375608025,\n",
       "  15369300936900,\n",
       "  61653778368064,\n",
       "  1385025350641,\n",
       "  372661411600,\n",
       "  96075821521,\n",
       "  15378444599296],\n",
       " [72570447531241,\n",
       "  74639940792481,\n",
       "  11381379376900,\n",
       "  25367853295801,\n",
       "  27996935011369,\n",
       "  5330067985636,\n",
       "  55919885761600],\n",
       " [51525076541409,\n",
       "  62171931649,\n",
       "  90344568760576,\n",
       "  75422207683216,\n",
       "  38770883797129,\n",
       "  1113571557081,\n",
       "  23818655550096]]"
      ]
     },
     "execution_count": 19,
     "metadata": {},
     "output_type": "execute_result"
    }
   ],
   "source": [
    "for sublist in newlist:\n",
    "    sublist.pop(0)\n",
    "newlist"
   ]
  },
  {
   "cell_type": "code",
   "execution_count": null,
   "metadata": {},
   "outputs": [],
   "source": [
    "7 867\n",
    "7 6429964 4173738 9941618 2744666 5392018 5813128 9452095\n",
    "7 6517823 4135421 6418713 9924958 9370532 7940650 2027017\n",
    "7 1506500 3460933 1550284 3679489 4538773 5216621 5645660\n",
    "7 7443563 5181142 8804416 8726696 5358847 7155276 4433125\n",
    "7 2230555 3920370 7851992 1176871 610460 309961 3921536\n",
    "7 8518829 8639441 3373630 5036651 5291213 2308694 7477960\n",
    "7 7178097 249343 9504976 8684596 6226627 1055259 4880436"
   ]
  },
  {
   "cell_type": "code",
   "execution_count": 25,
   "metadata": {},
   "outputs": [
    {
     "name": "stdout",
     "output_type": "stream",
     "text": [
      "[(1, 3, 5), (1, 3, 6), (1, 3, 7), (1, 4, 5), (1, 4, 6), (1, 4, 7), (1, 5, 5), (1, 5, 6), (1, 5, 7), (2, 3, 5), (2, 3, 6), (2, 3, 7), (2, 4, 5), (2, 4, 6), (2, 4, 7), (2, 5, 5), (2, 5, 6), (2, 5, 7), (3, 3, 5), (3, 3, 6), (3, 3, 7), (3, 4, 5), (3, 4, 6), (3, 4, 7), (3, 5, 5), (3, 5, 6), (3, 5, 7)]\n"
     ]
    }
   ],
   "source": [
    "from itertools import product\n",
    "list2=[[1,2,3],[3,4,5],[5,6,7]]\n",
    "print(list(product(*(list2))))"
   ]
  },
  {
   "cell_type": "code",
   "execution_count": 22,
   "metadata": {},
   "outputs": [
    {
     "data": {
      "text/plain": [
       "6"
      ]
     },
     "execution_count": 22,
     "metadata": {},
     "output_type": "execute_result"
    }
   ],
   "source": [
    "tup=(1,2,3)\n",
    "sum(tup)"
   ]
  },
  {
   "cell_type": "code",
   "execution_count": null,
   "metadata": {},
   "outputs": [],
   "source": [
    "from itertools import product\n",
    "K,M = map(int,input().split())\n",
    "newlist= (list(map(lambda c: c**2,map(int, input().split())))[1:] for i in range(K))\n",
    "results = map(lambda x: sum(i for i in x)%M, product(*newlist))\n",
    "print(max(results))"
   ]
  },
  {
   "cell_type": "code",
   "execution_count": 4,
   "metadata": {},
   "outputs": [
    {
     "data": {
      "text/plain": [
       "3"
      ]
     },
     "execution_count": 4,
     "metadata": {},
     "output_type": "execute_result"
    }
   ],
   "source": [
    "mtup=(1,2)\n",
    "sum(i for i in mtup)"
   ]
  },
  {
   "cell_type": "code",
   "execution_count": 16,
   "metadata": {},
   "outputs": [
    {
     "name": "stdout",
     "output_type": "stream",
     "text": [
      "[4, 3, 2, 1] 4096\n"
     ]
    }
   ],
   "source": [
    "from functools import reduce \n",
    "mylist=[1,2,3,4][::-1]\n",
    "print(mylist,reduce(lambda x,y:x**y,mylist))"
   ]
  },
  {
   "cell_type": "code",
   "execution_count": null,
   "metadata": {},
   "outputs": [],
   "source": []
  },
  {
   "cell_type": "code",
   "execution_count": null,
   "metadata": {},
   "outputs": [],
   "source": []
  }
 ],
 "metadata": {
  "kernelspec": {
   "display_name": "Python 3",
   "language": "python",
   "name": "python3"
  },
  "language_info": {
   "codemirror_mode": {
    "name": "ipython",
    "version": 3
   },
   "file_extension": ".py",
   "mimetype": "text/x-python",
   "name": "python",
   "nbconvert_exporter": "python",
   "pygments_lexer": "ipython3",
   "version": "3.8.5"
  }
 },
 "nbformat": 4,
 "nbformat_minor": 4
}
