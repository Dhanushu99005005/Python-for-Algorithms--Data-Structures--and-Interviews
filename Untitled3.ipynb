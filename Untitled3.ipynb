{
 "cells": [
  {
   "cell_type": "code",
   "execution_count": 1,
   "metadata": {
    "slideshow": {
     "slide_type": "slide"
    }
   },
   "outputs": [
    {
     "name": "stdin",
     "output_type": "stream",
     "text": [
      " HACK 4\n"
     ]
    },
    {
     "name": "stdout",
     "output_type": "stream",
     "text": [
      "A C H K AC AH AK CH CK HK ACH ACK AHK CHK ACHK \n",
      "\n",
      "A C H K AC AH AK CA CH CK HA HC HK KA KC KH ACH ACK AHC AHK AKC AKH CAH CAK CHA CHK CKA CKH HAC HAK HCA HCK HKA HKC KAC KAH KCA KCH KHA KHC ACHK ACKH AHCK AHKC AKCH AKHC CAHK CAKH CHAK CHKA CKAH CKHA HACK HAKC HCAK HCKA HKAC HKCA KACH KAHC KCAH KCHA KHAC KHCA "
     ]
    }
   ],
   "source": [
    "from itertools import combinations\n",
    "from itertools import permutations\n",
    "stri,n=input().split()\n",
    "comblist=[\"\".join(j) for i in range(1,int(n)+1) for j in combinations(sorted(stri),i)]\n",
    "permlist=[\"\".join(j) for i in range(1,int(n)+1) for j in permutations(sorted(stri),i)]\n",
    "\n",
    "for comb in comblist:\n",
    "    print(comb,end=\" \")\n",
    "print(\"\\n\") \n",
    "for comb in permlist:\n",
    "    print(comb,end=\" \")\n",
    "                "
   ]
  },
  {
   "cell_type": "code",
   "execution_count": null,
   "metadata": {},
   "outputs": [],
   "source": []
  },
  {
   "cell_type": "code",
   "execution_count": null,
   "metadata": {},
   "outputs": [],
   "source": []
  }
 ],
 "metadata": {
  "kernelspec": {
   "display_name": "Python 3",
   "language": "python",
   "name": "python3"
  },
  "language_info": {
   "codemirror_mode": {
    "name": "ipython",
    "version": 3
   },
   "file_extension": ".py",
   "mimetype": "text/x-python",
   "name": "python",
   "nbconvert_exporter": "python",
   "pygments_lexer": "ipython3",
   "version": "3.8.5"
  }
 },
 "nbformat": 4,
 "nbformat_minor": 4
}
