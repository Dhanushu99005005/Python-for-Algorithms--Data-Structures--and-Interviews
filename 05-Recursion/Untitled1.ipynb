{
 "cells": [
  {
   "cell_type": "code",
   "execution_count": 31,
   "metadata": {},
   "outputs": [
    {
     "name": "stdout",
     "output_type": "stream",
     "text": [
      "5\n",
      "    1     1     1     1\n",
      "    2     2     2    10\n",
      "    3     3     3    11\n",
      "    4     4     4   100\n",
      "    5     5     5   101\n",
      "    6     6     6   110\n",
      "    7     7     7   111\n",
      "    8    10     8  1000\n",
      "    9    11     9  1001\n",
      "   10    12     A  1010\n",
      "   11    13     B  1011\n",
      "   12    14     C  1100\n",
      "   13    15     D  1101\n",
      "   14    16     E  1110\n",
      "   15    17     F  1111\n",
      "   16    20    10 10000\n",
      "   17    21    11 10001\n"
     ]
    }
   ],
   "source": [
    "N=17\n",
    "s=\"ABCDEF\"\n",
    "len_bin_num=N\n",
    "len_count=0\n",
    "len_binary=0\n",
    "while(len_bin_num!=0):\n",
    "    len_rem=len_bin_num%2\n",
    "    len_binary+=len_rem*(10**len_count)\n",
    "    len_count+=1\n",
    "    len_bin_num=len_bin_num//2\n",
    "length=len(str(len_binary))\n",
    "print(length)\n",
    "for i in range(1,N+1):\n",
    "    length_i=len(str(i))\n",
    "    stri=(\" \"*(length-length_i))+str(i)\n",
    "    bin_num=i\n",
    "    count=0\n",
    "    binary=0\n",
    "    while(bin_num!=0):\n",
    "        rem=bin_num%2\n",
    "        binary+=rem*(10**count)\n",
    "        count+=1\n",
    "        bin_num=bin_num//2\n",
    "    length_binary=len(str(binary))\n",
    "    strbinary=(\" \"*(length-length_binary))+str(binary)\n",
    "    #print(binary)\n",
    "    oct_num=i\n",
    "    count=0\n",
    "    octal=0\n",
    "    while(oct_num!=0):\n",
    "        rem=oct_num%8\n",
    "        octal+=rem*(10**count)\n",
    "        count+=1\n",
    "        oct_num=oct_num//8\n",
    "    length_octal=len(str(octal))\n",
    "    stroctal=(\" \"*(length-length_octal))+str(octal)\n",
    "    #print(octal)\n",
    "    hex_num=i\n",
    "    count=0\n",
    "    hexadecimal=\"\"\n",
    "    while(hex_num!=0):\n",
    "        rem=hex_num%16\n",
    "        if rem in range(10,16):\n",
    "            rem=s[rem-10]\n",
    "        rem=str(rem)\n",
    "        hexadecimal+=rem\n",
    "        hex_num=hex_num//16\n",
    "    length_hexadecimal=len(hexadecimal)\n",
    "    strhexadecimal=(\" \"*(length-length_hexadecimal))+hexadecimal[::-1]\n",
    "    print(stri,stroctal,strhexadecimal,strbinary)\n",
    "            \n",
    "            \n",
    "            "
   ]
  },
  {
   "cell_type": "markdown",
   "metadata": {},
   "source": [
    "# "
   ]
  }
 ],
 "metadata": {
  "kernelspec": {
   "display_name": "Python 3",
   "language": "python",
   "name": "python3"
  },
  "language_info": {
   "codemirror_mode": {
    "name": "ipython",
    "version": 3
   },
   "file_extension": ".py",
   "mimetype": "text/x-python",
   "name": "python",
   "nbconvert_exporter": "python",
   "pygments_lexer": "ipython3",
   "version": "3.8.5"
  }
 },
 "nbformat": 4,
 "nbformat_minor": 4
}
