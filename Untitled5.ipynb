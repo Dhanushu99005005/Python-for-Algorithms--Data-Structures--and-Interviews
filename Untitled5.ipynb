{
 "cells": [
  {
   "cell_type": "code",
   "execution_count": 1,
   "metadata": {},
   "outputs": [
    {
     "name": "stdin",
     "output_type": "stream",
     "text": [
      " 10\n",
      " 2 3 4 5 6 8 7 6 5 18\n"
     ]
    },
    {
     "name": "stdout",
     "output_type": "stream",
     "text": [
      "Counter({5: 2, 6: 2, 2: 1, 3: 1, 4: 1, 8: 1, 7: 1, 18: 1})\n"
     ]
    },
    {
     "name": "stdin",
     "output_type": "stream",
     "text": [
      " 6\n",
      " 6 55\n"
     ]
    },
    {
     "name": "stdout",
     "output_type": "stream",
     "text": [
      "55 6\n"
     ]
    },
    {
     "name": "stdin",
     "output_type": "stream",
     "text": [
      " 6 45\n"
     ]
    },
    {
     "name": "stdout",
     "output_type": "stream",
     "text": [
      "45 6\n"
     ]
    },
    {
     "name": "stdin",
     "output_type": "stream",
     "text": [
      " 6 55\n",
      " 4 40\n"
     ]
    },
    {
     "name": "stdout",
     "output_type": "stream",
     "text": [
      "40 4\n"
     ]
    },
    {
     "name": "stdin",
     "output_type": "stream",
     "text": [
      " 18 60\n"
     ]
    },
    {
     "name": "stdout",
     "output_type": "stream",
     "text": [
      "60 18\n"
     ]
    },
    {
     "name": "stdin",
     "output_type": "stream",
     "text": [
      " 10 50\n"
     ]
    },
    {
     "name": "stdout",
     "output_type": "stream",
     "text": [
      "200\n"
     ]
    }
   ],
   "source": [
    "from collections import Counter\n",
    "n=int(input())\n",
    "totalprice=0\n",
    "shoedict=Counter(list(map(int,input().split())))\n",
    "print(shoedict)\n",
    "c=int(input())\n",
    "for i in range(c):\n",
    "    size,price=list(map(int,input().split()))\n",
    "    if size in shoedict.keys() and shoedict[size]!=0:\n",
    "        print(price,size)\n",
    "        totalprice+=price\n",
    "        shoedict[size]-=1\n",
    "print(totalprice)"
   ]
  },
  {
   "cell_type": "code",
   "execution_count": null,
   "metadata": {},
   "outputs": [],
   "source": [
    "10\n",
    "2 3 4 5 6 8 7 6 5 18\n",
    "6\n",
    "6 55\n",
    "6 45\n",
    "6 55\n",
    "4 40\n",
    "18 60\n",
    "10 50"
   ]
  },
  {
   "cell_type": "code",
   "execution_count": 34,
   "metadata": {},
   "outputs": [
    {
     "name": "stdin",
     "output_type": "stream",
     "text": [
      " 5 3\n",
      " a\n",
      " a\n",
      " b\n",
      " a\n",
      " b\n",
      " a\n",
      " c\n",
      " b\n"
     ]
    }
   ],
   "source": [
    "n,m=list(map(int,input().split()))\n",
    "list1=[str(input()) for i in range(n)]\n",
    "list2=[str(input()) for j in range(m)]"
   ]
  },
  {
   "cell_type": "code",
   "execution_count": 35,
   "metadata": {},
   "outputs": [
    {
     "name": "stdout",
     "output_type": "stream",
     "text": [
      "['a', 'a', 'b', 'a', 'b']\n",
      "['a', 'c', 'b']\n"
     ]
    }
   ],
   "source": [
    "print(list1)\n",
    "print(list2)"
   ]
  },
  {
   "cell_type": "code",
   "execution_count": 36,
   "metadata": {},
   "outputs": [
    {
     "name": "stdout",
     "output_type": "stream",
     "text": [
      "['1 2 4 ']\n",
      "1 2 4 \n",
      "-1\n",
      "['3 5 ']\n",
      "3 5 \n"
     ]
    }
   ],
   "source": [
    "r=\"\"\n",
    "finlist=[]\n",
    "for i in range(m):\n",
    "    if list2[i] in list1:\n",
    "        for j in range(n):\n",
    "            if list1[j]==list2[i]:\n",
    "                r+=str(j+1)+\" \"\n",
    "        finlist.append(r)\n",
    "        print(finlist)\n",
    "        for i in finlist:\n",
    "            print(i)\n",
    "        finlist=[]\n",
    "        r=\"\"\n",
    "    else:\n",
    "        print(-1)\n",
    "\n",
    "\n",
    "            \n",
    "            \n",
    "    "
   ]
  },
  {
   "cell_type": "code",
   "execution_count": null,
   "metadata": {},
   "outputs": [],
   "source": [
    "from collections import namedtuple\n",
    "N = int(input());student = namedtuple('student',input().strip().split())\n",
    "print(sum(float(student(*input().strip().split()).MARKS) for _ in range(N))/N)"
   ]
  },
  {
   "cell_type": "code",
   "execution_count": 1,
   "metadata": {},
   "outputs": [
    {
     "name": "stdin",
     "output_type": "stream",
     "text": [
      " qqqq   wwwww\n"
     ]
    },
    {
     "data": {
      "text/plain": [
       "['qqqq', 'wwwww']"
      ]
     },
     "execution_count": 1,
     "metadata": {},
     "output_type": "execute_result"
    }
   ],
   "source": [
    "n=input().strip().split()\n",
    "n"
   ]
  },
  {
   "cell_type": "code",
   "execution_count": null,
   "metadata": {},
   "outputs": [],
   "source": [
    "from collections import namedtuple\n",
    "n=int(input())\n",
    "summarks=0\n",
    "students=namedtuple('students',(\" \".join(input().split())))\n",
    "for i in range(n):\n",
    "    summarks+=student(input().strip().split()).MARKS\n",
    "print(summarks/n)"
   ]
  },
  {
   "cell_type": "code",
   "execution_count": 3,
   "metadata": {},
   "outputs": [
    {
     "name": "stdin",
     "output_type": "stream",
     "text": [
      " 9\n",
      " POTATO CHIPS 30\n",
      " CANDY 5\n",
      " POTATO CHIPS 30\n",
      " BANANA FRIES 12\n",
      " CANDY 5\n",
      " CANDY 5\n",
      " APPLE JUICE 10\n",
      " APPLE JUICE 10\n",
      " CANDY 5\n"
     ]
    },
    {
     "name": "stdout",
     "output_type": "stream",
     "text": [
      "{'POTATO CHIPS': [60, 2], 'CANDY': [20, 4], 'BANANA FRIES': [12, 1], 'APPLE JUICE': [20, 2]}\n"
     ]
    }
   ],
   "source": [
    "n=int(input())\n",
    "grocery={}\n",
    "for i in range(n):\n",
    "    grocitem,space,price= input().rpartition(' ')\n",
    "    if grocitem in grocery.keys():\n",
    "        grocery[grocitem][0]+=int(price)\n",
    "        grocery[grocitem][1]+=1\n",
    "    else:\n",
    "        grocery.setdefault(grocitem,[])\n",
    "        grocery[grocitem].append(int(price))\n",
    "        grocery[grocitem].append(1)\n",
    "print(grocery)\n",
    "        \n",
    "        \n",
    "        \n",
    "        \n",
    "    "
   ]
  },
  {
   "cell_type": "code",
   "execution_count": null,
   "metadata": {},
   "outputs": [],
   "source": [
    "9\n",
    "BANANA FRIES 12\n",
    "POTATO CHIPS 30\n",
    "APPLE JUICE 10\n",
    "CANDY 5\n",
    "APPLE JUICE 10\n",
    "CANDY 5\n",
    "CANDY 5\n",
    "CANDY 5\n",
    "POTATO CHIPS 30"
   ]
  },
  {
   "cell_type": "code",
   "execution_count": null,
   "metadata": {},
   "outputs": [],
   "source": []
  },
  {
   "cell_type": "code",
   "execution_count": 17,
   "metadata": {},
   "outputs": [
    {
     "data": {
      "text/plain": [
       "{'BANANA FRIES': [12, 1],\n",
       " 'POTATO CHIPS': [60, 2],\n",
       " 'APPLE JUICE': [20, 2],\n",
       " 'CANDY': [20, 4]}"
      ]
     },
     "execution_count": 17,
     "metadata": {},
     "output_type": "execute_result"
    }
   ],
   "source": [
    "sortedgrocery=dict(sorted(grocery.items(),key=lambda item:item[1][1]))\n",
    "sortedgrocery"
   ]
  },
  {
   "cell_type": "code",
   "execution_count": 19,
   "metadata": {},
   "outputs": [
    {
     "name": "stdout",
     "output_type": "stream",
     "text": [
      "BANANA FRIES 12\n",
      "POTATO CHIPS 60\n",
      "APPLE JUICE 20\n",
      "CANDY 20\n"
     ]
    }
   ],
   "source": [
    "for key,value in dict(sorted(grocery.items(),key=lambda item:item[1][1])).items():\n",
    "    print(key,value[0])"
   ]
  },
  {
   "cell_type": "code",
   "execution_count": 5,
   "metadata": {},
   "outputs": [
    {
     "name": "stdout",
     "output_type": "stream",
     "text": [
      "1 2\n"
     ]
    }
   ],
   "source": [
    "givenlist=[1,2]\n",
    "n,m= givenlist\n",
    "print(n,m)"
   ]
  },
  {
   "cell_type": "code",
   "execution_count": 16,
   "metadata": {},
   "outputs": [],
   "source": [
    "import math\n",
    "def isprime(n):\n",
    "    for i in range(2,int(math.sqrt(n)+1)):\n",
    "        if n%i==0:\n",
    "            return False\n",
    "    return True"
   ]
  },
  {
   "cell_type": "code",
   "execution_count": 19,
   "metadata": {},
   "outputs": [],
   "source": [
    "mystring=\"ahijkwhjdrwkdjKA\"\n",
    "mylist=sorted(mystring)\n",
    "myfilt=list(filter(lambda x:isprime(ord(x)),mylist))"
   ]
  },
  {
   "cell_type": "code",
   "execution_count": 31,
   "metadata": {},
   "outputs": [
    {
     "data": {
      "text/plain": [
       "122"
      ]
     },
     "execution_count": 31,
     "metadata": {},
     "output_type": "execute_result"
    }
   ],
   "source": [
    "myfilt\n",
    "ord(\"z\")"
   ]
  },
  {
   "cell_type": "code",
   "execution_count": 27,
   "metadata": {},
   "outputs": [
    {
     "data": {
      "text/plain": [
       "['A',\n",
       " 'K',\n",
       " 'a',\n",
       " 'd',\n",
       " 'd',\n",
       " 'h',\n",
       " 'h',\n",
       " 'i',\n",
       " 'j',\n",
       " 'j',\n",
       " 'j',\n",
       " 'k',\n",
       " 'k',\n",
       " 'r',\n",
       " 'w',\n",
       " 'w']"
      ]
     },
     "execution_count": 27,
     "metadata": {},
     "output_type": "execute_result"
    }
   ],
   "source": [
    "mylist"
   ]
  },
  {
   "cell_type": "code",
   "execution_count": 34,
   "metadata": {},
   "outputs": [
    {
     "name": "stdout",
     "output_type": "stream",
     "text": [
      "% ) + / 5 ; = C G I O S Y a e g k m q "
     ]
    }
   ],
   "source": [
    "for i in range(33,127):\n",
    "    if(isprime(i)):\n",
    "        print(chr(i),end=\" \")"
   ]
  },
  {
   "cell_type": "code",
   "execution_count": 8,
   "metadata": {},
   "outputs": [
    {
     "name": "stdout",
     "output_type": "stream",
     "text": [
      "0 48\n",
      "1 49\n",
      "2 50\n",
      "3 51\n",
      "4 52\n",
      "5 53\n",
      "6 54\n",
      "7 55\n",
      "8 56\n",
      "9 57\n",
      "a 97\n",
      "b 98\n",
      "c 99\n",
      "d 100\n",
      "e 101\n",
      "f 102\n",
      "g 103\n",
      "h 104\n",
      "i 105\n",
      "j 106\n",
      "k 107\n",
      "l 108\n",
      "m 109\n",
      "n 110\n",
      "o 111\n",
      "p 112\n",
      "q 113\n",
      "r 114\n",
      "s 115\n",
      "t 116\n",
      "u 117\n",
      "v 118\n",
      "w 119\n",
      "x 120\n",
      "y 121\n",
      "z 122\n",
      "A 65\n",
      "B 66\n",
      "C 67\n",
      "D 68\n",
      "E 69\n",
      "F 70\n",
      "G 71\n",
      "H 72\n",
      "I 73\n",
      "J 74\n",
      "K 75\n",
      "L 76\n",
      "M 77\n",
      "N 78\n",
      "O 79\n",
      "P 80\n",
      "Q 81\n",
      "R 82\n",
      "S 83\n",
      "T 84\n",
      "U 85\n",
      "V 86\n",
      "W 87\n",
      "X 88\n",
      "Y 89\n",
      "Z 90\n",
      "! 33\n",
      "\" 34\n",
      "# 35\n",
      "$ 36\n",
      "% 37\n",
      "& 38\n",
      "' 39\n",
      "( 40\n",
      ") 41\n",
      "* 42\n",
      "+ 43\n",
      ", 44\n",
      "- 45\n",
      ". 46\n",
      "/ 47\n",
      ": 58\n",
      "; 59\n",
      "< 60\n",
      "= 61\n",
      "> 62\n",
      "? 63\n",
      "@ 64\n",
      "[ 91\n",
      "\\ 92\n",
      "] 93\n",
      "^ 94\n",
      "_ 95\n",
      "` 96\n",
      "{ 123\n",
      "| 124\n",
      "} 125\n",
      "~ 126\n",
      "  32\n",
      "\t 9\n",
      "\n",
      " 10\n",
      " 13\n",
      "\u000b",
      " 11\n",
      "\f",
      " 12\n"
     ]
    }
   ],
   "source": [
    "import string\n",
    "for i in string.printable:\n",
    "    print(i,ord(i))"
   ]
  },
  {
   "cell_type": "code",
   "execution_count": null,
   "metadata": {},
   "outputs": [],
   "source": []
  }
 ],
 "metadata": {
  "kernelspec": {
   "display_name": "Python 3",
   "language": "python",
   "name": "python3"
  },
  "language_info": {
   "codemirror_mode": {
    "name": "ipython",
    "version": 3
   },
   "file_extension": ".py",
   "mimetype": "text/x-python",
   "name": "python",
   "nbconvert_exporter": "python",
   "pygments_lexer": "ipython3",
   "version": "3.8.5"
  }
 },
 "nbformat": 4,
 "nbformat_minor": 4
}
