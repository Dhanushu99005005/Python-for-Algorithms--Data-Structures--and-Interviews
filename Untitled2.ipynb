{
 "cells": [
  {
   "cell_type": "code",
   "execution_count": 1,
   "metadata": {},
   "outputs": [
    {
     "name": "stdin",
     "output_type": "stream",
     "text": [
      " HACK 2\n"
     ]
    }
   ],
   "source": [
    "from itertools import permutations\n",
    "stri,n=input().split()\n",
    "permlist=list(permutations(stri,int(n)))"
   ]
  },
  {
   "cell_type": "code",
   "execution_count": 2,
   "metadata": {},
   "outputs": [
    {
     "name": "stdout",
     "output_type": "stream",
     "text": [
      "[('H', 'A'), ('H', 'C'), ('H', 'K'), ('A', 'H'), ('A', 'C'), ('A', 'K'), ('C', 'H'), ('C', 'A'), ('C', 'K'), ('K', 'H'), ('K', 'A'), ('K', 'C')]\n",
      "AC\n",
      "AH\n",
      "AK\n",
      "CA\n",
      "CH\n",
      "CK\n",
      "HA\n",
      "HC\n",
      "HK\n",
      "KA\n",
      "KC\n",
      "KH\n"
     ]
    }
   ],
   "source": [
    "print(permlist)\n",
    "strpermlist=[\"\".join(permtuple) for permtuple in permlist]\n",
    "for permstr in sorted(strpermlist):\n",
    "    print(permstr)"
   ]
  },
  {
   "cell_type": "code",
   "execution_count": 3,
   "metadata": {},
   "outputs": [
    {
     "name": "stdin",
     "output_type": "stream",
     "text": [
      " HACK 2\n"
     ]
    },
    {
     "name": "stdout",
     "output_type": "stream",
     "text": [
      "[('A', 'A'), ('A', 'C'), ('A', 'H'), ('A', 'K'), ('C', 'C'), ('C', 'H'), ('C', 'K'), ('H', 'H'), ('H', 'K'), ('K', 'K')]\n",
      "AA\n",
      "AC\n",
      "AH\n",
      "AK\n",
      "CC\n",
      "CH\n",
      "CK\n",
      "HH\n",
      "HK\n",
      "KK\n"
     ]
    }
   ],
   "source": [
    "from itertools import combinations_with_replacement\n",
    "stri,n=input().split()\n",
    "comblist=list(combinations_with_replacement(sorted(stri),int(n)))\n",
    "print(comblist)\n",
    "for comb in comblist:\n",
    "    print(\"\".join(comb))"
   ]
  },
  {
   "cell_type": "code",
   "execution_count": 4,
   "metadata": {},
   "outputs": [
    {
     "name": "stdout",
     "output_type": "stream",
     "text": [
      "[('1', '1'), ('1', '2'), ('1', '3'), ('1', '4'), ('2', '1'), ('2', '2'), ('2', '3'), ('2', '4'), ('3', '1'), ('3', '2'), ('3', '3'), ('3', '4'), ('4', '1'), ('4', '2'), ('4', '3'), ('4', '4')] 16\n",
      "\n",
      "[('1', '2'), ('1', '3'), ('1', '4'), ('2', '1'), ('2', '3'), ('2', '4'), ('3', '1'), ('3', '2'), ('3', '4'), ('4', '1'), ('4', '2'), ('4', '3')] 12\n",
      "\n",
      "[('1', '2'), ('1', '3'), ('1', '4'), ('2', '3'), ('2', '4'), ('3', '4')] 6\n",
      "\n",
      "[('1', '1'), ('1', '2'), ('1', '3'), ('1', '4'), ('2', '2'), ('2', '3'), ('2', '4'), ('3', '3'), ('3', '4'), ('4', '4')] 10\n"
     ]
    }
   ],
   "source": [
    "import timeit\n",
    "from itertools import permutations\n",
    "from itertools import combinations\n",
    "from itertools import combinations_with_replacement\n",
    "from itertools import product\n",
    "#number=list(map(int,input().split()))\n",
    "prod=list(product('1234',repeat=2))\n",
    "print(prod,len(prod))\n",
    "print( )\n",
    "perm=list(permutations('1234',2))\n",
    "print(perm,len(perm))\n",
    "print( )\n",
    "comb=list(combinations('1234',2))\n",
    "print(comb,len(comb))\n",
    "print( )\n",
    "combrep=list(combinations_with_replacement('1234',2))\n",
    "print(combrep,len(combrep))\n",
    "\n",
    "%timeit"
   ]
  },
  {
   "cell_type": "code",
   "execution_count": 4,
   "metadata": {},
   "outputs": [
    {
     "name": "stdin",
     "output_type": "stream",
     "text": [
      " 112222334422354\n"
     ]
    },
    {
     "name": "stdout",
     "output_type": "stream",
     "text": [
      "(0, 1)\n",
      "(2, 2)\n",
      "(4, 3)\n",
      "(2, 4)\n",
      "(2, 2)\n",
      "(2, 3)\n",
      "(1, 5)\n",
      "(1, 4)\n"
     ]
    }
   ],
   "source": [
    "output=\"\".join(input().split( ))\n",
    "seen=set()\n",
    "count=0\n",
    "for i in output:\n",
    "    if i not in seen:\n",
    "        seen.clear()\n",
    "        print((count,int(i)))\n",
    "        seen.add(i)\n",
    "        count=1\n",
    "        \n",
    "    else:\n",
    "        count+=1\n",
    "    \n",
    "        "
   ]
  },
  {
   "cell_type": "code",
   "execution_count": 4,
   "metadata": {},
   "outputs": [
    {
     "name": "stdin",
     "output_type": "stream",
     "text": [
      " 112233311\n"
     ]
    },
    {
     "name": "stdout",
     "output_type": "stream",
     "text": [
      "(['1', '1'], 1) (['2', '2'], 2) (['3', '3', '3'], 3) (['1', '1'], 1) "
     ]
    }
   ],
   "source": [
    "from itertools import groupby\n",
    "for key, group in groupby(input()):\n",
    "    print('({}, {})'.format(list(group), key), end=\" \")"
   ]
  },
  {
   "cell_type": "code",
   "execution_count": 1,
   "metadata": {},
   "outputs": [
    {
     "name": "stdin",
     "output_type": "stream",
     "text": [
      " 4\n",
      " a a c d\n",
      " 2\n"
     ]
    },
    {
     "data": {
      "text/plain": [
       "[('a', 'a'), ('a', 'c'), ('a', 'd'), ('a', 'c'), ('a', 'd'), ('c', 'd')]"
      ]
     },
     "execution_count": 1,
     "metadata": {},
     "output_type": "execute_result"
    }
   ],
   "source": [
    "from itertools import combinations\n",
    "n=int(input())\n",
    "seq=input().split()\n",
    "l=int(input())\n",
    "seqlist=list(combinations(seq,l))\n",
    "seqlist"
   ]
  },
  {
   "cell_type": "code",
   "execution_count": 2,
   "metadata": {},
   "outputs": [
    {
     "name": "stdout",
     "output_type": "stream",
     "text": [
      "('a', 'a')\n",
      "('a', 'c')\n",
      "('a', 'd')\n",
      "('a', 'c')\n",
      "('a', 'd')\n",
      "('c', 'd')\n",
      "0.833\n"
     ]
    }
   ],
   "source": [
    "count=0\n",
    "for i in seqlist:\n",
    "    print(i)\n",
    "    if 'a' in i:\n",
    "        count+=1\n",
    "print(\"%0.3f\"%(count/len(seqlist)))\n",
    "        "
   ]
  },
  {
   "cell_type": "code",
   "execution_count": 1,
   "metadata": {},
   "outputs": [
    {
     "name": "stdout",
     "output_type": "stream",
     "text": [
      "(1, 2)\n",
      "(2, 3)\n",
      "(3, 4)\n",
      "(4, 5)\n"
     ]
    }
   ],
   "source": [
    "list1=[(1,2),(2,3),(3,4),(4,5)]\n",
    "for i in list1:\n",
    "    print(i)"
   ]
  },
  {
   "cell_type": "code",
   "execution_count": 21,
   "metadata": {},
   "outputs": [
    {
     "name": "stdin",
     "output_type": "stream",
     "text": [
      " 9\n",
      " a b c a d b z e o\n",
      " 4\n"
     ]
    },
    {
     "name": "stdout",
     "output_type": "stream",
     "text": [
      "0.722\n"
     ]
    }
   ],
   "source": [
    " from itertools import combinations\n",
    "\n",
    "N = int(input())\n",
    "L = input().split()\n",
    "K = int(input())\n",
    "C = list(combinations(L, K))\n",
    "F = filter(lambda c: 'a' in c, C)\n",
    "print(\"{0:.3}\".format(len(list(F))/len(C)))"
   ]
  },
  {
   "cell_type": "code",
   "execution_count": 1,
   "metadata": {},
   "outputs": [
    {
     "data": {
      "text/plain": [
       "['A', 'C', 'H', 'K']"
      ]
     },
     "execution_count": 1,
     "metadata": {},
     "output_type": "execute_result"
    }
   ],
   "source": [
    "sorted(\"HACK\")"
   ]
  },
  {
   "cell_type": "code",
   "execution_count": 9,
   "metadata": {},
   "outputs": [
    {
     "name": "stdout",
     "output_type": "stream",
     "text": [
      "1 1   1\n",
      "1 2   2\n",
      "1 3   3\n",
      "1 4   4\n",
      "2 1   1\n",
      "2 2   2\n",
      "2 3   3\n",
      "2 4   4\n",
      "3 1   1\n",
      "3 2   2\n",
      "3 3   3\n",
      "3 4   4\n",
      "4 1   1\n",
      "4 2   2\n",
      "4 3   3\n",
      "4 4   4\n"
     ]
    }
   ],
   "source": [
    "for i in range(1,5):\n",
    "    for j in range(1,5):\n",
    "        print(i,j,\" \",j or i)"
   ]
  },
  {
   "cell_type": "code",
   "execution_count": null,
   "metadata": {},
   "outputs": [],
   "source": []
  },
  {
   "cell_type": "code",
   "execution_count": null,
   "metadata": {},
   "outputs": [],
   "source": []
  }
 ],
 "metadata": {
  "kernelspec": {
   "display_name": "Python 3",
   "language": "python",
   "name": "python3"
  },
  "language_info": {
   "codemirror_mode": {
    "name": "ipython",
    "version": 3
   },
   "file_extension": ".py",
   "mimetype": "text/x-python",
   "name": "python",
   "nbconvert_exporter": "python",
   "pygments_lexer": "ipython3",
   "version": "3.8.5"
  }
 },
 "nbformat": 4,
 "nbformat_minor": 4
}
