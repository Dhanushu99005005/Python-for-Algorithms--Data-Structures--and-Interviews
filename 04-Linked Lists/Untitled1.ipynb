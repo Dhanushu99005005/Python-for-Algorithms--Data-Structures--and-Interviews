{
 "cells": [
  {
   "cell_type": "code",
   "execution_count": 1,
   "metadata": {},
   "outputs": [
    {
     "name": "stdin",
     "output_type": "stream",
     "text": [
      " 100\n",
      " 1\n"
     ]
    },
    {
     "name": "stdout",
     "output_type": "stream",
     "text": [
      "88°\n"
     ]
    }
   ],
   "source": [
    "import math\n",
    "AB=int(input())\n",
    "BC=int(input())\n",
    "theata=math.degrees(math.atan(AB/BC))\n",
    "if(theata%1==0):\n",
    "    theata\n",
    "elif(theata%1<0.5):\n",
    "    theata-=1\n",
    "else:\n",
    "    theata+=1\n",
    "\n",
    "print(str(int(theata))+'°')"
   ]
  },
  {
   "cell_type": "code",
   "execution_count": null,
   "metadata": {},
   "outputs": [],
   "source": []
  }
 ],
 "metadata": {
  "kernelspec": {
   "display_name": "Python 3",
   "language": "python",
   "name": "python3"
  },
  "language_info": {
   "codemirror_mode": {
    "name": "ipython",
    "version": 3
   },
   "file_extension": ".py",
   "mimetype": "text/x-python",
   "name": "python",
   "nbconvert_exporter": "python",
   "pygments_lexer": "ipython3",
   "version": "3.8.5"
  }
 },
 "nbformat": 4,
 "nbformat_minor": 4
}
