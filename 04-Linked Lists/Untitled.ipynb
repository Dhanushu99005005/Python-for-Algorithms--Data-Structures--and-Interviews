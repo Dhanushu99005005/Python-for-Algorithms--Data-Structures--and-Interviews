{
 "cells": [
  {
   "cell_type": "code",
   "execution_count": 1,
   "metadata": {},
   "outputs": [
    {
     "name": "stdout",
     "output_type": "stream",
     "text": [
      "13 2 2 13\n",
      "12 2 4 1213\n",
      "11 2 6 111213\n",
      "10 2 8 10111213\n",
      "9 1 9 910111213\n",
      "8 1 10 8910111213\n",
      "7 1 11 78910111213\n",
      "6 1 12 678910111213\n",
      "5 1 13 5678910111213\n",
      "4 1 14 45678910111213\n",
      "3 1 15 345678910111213\n",
      "2 1 16 2345678910111213\n",
      "1 1 17 12345678910111213\n",
      "12345678910111213\n"
     ]
    }
   ],
   "source": [
    "\n",
    "count=0\n",
    "i=13\n",
    "num=i\n",
    "while(i>0):\n",
    "    l=len(str(i))\n",
    "    count+=l\n",
    "    print(i,l,count,num)\n",
    "    i-=1\n",
    "    num+=i*(10**count)\n",
    "       \n",
    "print(num)"
   ]
  },
  {
   "cell_type": "code",
   "execution_count": 8,
   "metadata": {},
   "outputs": [
    {
     "data": {
      "text/plain": [
       "9"
      ]
     },
     "execution_count": 8,
     "metadata": {},
     "output_type": "execute_result"
    }
   ],
   "source": [
    "10^3"
   ]
  },
  {
   "cell_type": "code",
   "execution_count": 38,
   "metadata": {},
   "outputs": [
    {
     "name": "stdout",
     "output_type": "stream",
     "text": [
      "1\n",
      "2\n",
      "3\n",
      "4\n",
      "5\n",
      "6\n",
      "7\n",
      "8\n",
      "9\n",
      "10\n"
     ]
    }
   ],
   "source": [
    "for a in range(1,11):\n",
    "    print(a)"
   ]
  },
  {
   "cell_type": "code",
   "execution_count": 14,
   "metadata": {},
   "outputs": [
    {
     "name": "stdout",
     "output_type": "stream",
     "text": [
      "1\n",
      "22\n",
      "333\n",
      "4444\n",
      "55555\n",
      "666666\n",
      "7777777\n",
      "88888888\n",
      "999999999\n",
      "11111111110\n"
     ]
    }
   ],
   "source": [
    "n=11\n",
    "for i in range(1,n):\n",
    "    print((10**i//9)*i)"
   ]
  },
  {
   "cell_type": "code",
   "execution_count": 12,
   "metadata": {},
   "outputs": [
    {
     "name": "stdout",
     "output_type": "stream",
     "text": [
      "1.5880026035475674\n"
     ]
    }
   ],
   "source": [
    "import math\n",
    "AB=20\n",
    "BC=30\n",
    "theta=math.atan(AB/BC)\n",
    "if(theta%1<0.5):\n",
    "    theta-=1\n",
    "else:\n",
    "    theta+=1\n",
    "\n",
    "print(theta)"
   ]
  },
  {
   "cell_type": "code",
   "execution_count": null,
   "metadata": {},
   "outputs": [],
   "source": []
  },
  {
   "cell_type": "code",
   "execution_count": null,
   "metadata": {},
   "outputs": [],
   "source": []
  }
 ],
 "metadata": {
  "kernelspec": {
   "display_name": "Python 3",
   "language": "python",
   "name": "python3"
  },
  "language_info": {
   "codemirror_mode": {
    "name": "ipython",
    "version": 3
   },
   "file_extension": ".py",
   "mimetype": "text/x-python",
   "name": "python",
   "nbconvert_exporter": "python",
   "pygments_lexer": "ipython3",
   "version": "3.8.5"
  }
 },
 "nbformat": 4,
 "nbformat_minor": 4
}
