{
 "cells": [
  {
   "cell_type": "code",
   "execution_count": 5,
   "metadata": {},
   "outputs": [
    {
     "name": "stdout",
     "output_type": "stream",
     "text": [
      "140734098908960\n",
      "140734098908960\n",
      "140734098908992\n",
      "2075320990576\n",
      "2075320990576\n"
     ]
    }
   ],
   "source": [
    "num1=1\n",
    "print(id(num1))\n",
    "num2=num1\n",
    "print(id(num2))\n",
    "num1=num2+num1\n",
    "print(id(num1))\n",
    "name1=\"hi\"\n",
    "print(id(name1))\n",
    "name2=name1\n",
    "print(id(name2))\n"
   ]
  },
  {
   "cell_type": "code",
   "execution_count": 6,
   "metadata": {},
   "outputs": [
    {
     "name": "stdout",
     "output_type": "stream",
     "text": [
      "140734098908992\n",
      "140734098908960\n",
      "2075320990576\n",
      "2075320990576\n"
     ]
    }
   ],
   "source": [
    "print(id(num1))\n",
    "print(id(num2))\n",
    "print(id(name1))\n",
    "print(id(name2))"
   ]
  },
  {
   "cell_type": "code",
   "execution_count": 7,
   "metadata": {},
   "outputs": [
    {
     "name": "stdout",
     "output_type": "stream",
     "text": [
      "2012117334080\n",
      "2012117334080\n",
      "2012117015808\n"
     ]
    }
   ],
   "source": [
    "list1=[1,2,3]\n",
    "print(id(list1))\n",
    "list2=list1\n",
    "print(id(list2))\n",
    "list1=list2+list1\n",
    "print(id(list1))"
   ]
  },
  {
   "cell_type": "code",
   "execution_count": 3,
   "metadata": {},
   "outputs": [
    {
     "name": "stdin",
     "output_type": "stream",
     "text": [
      " 1 1 2 2 3\n"
     ]
    },
    {
     "name": "stdout",
     "output_type": "stream",
     "text": [
      "3\n"
     ]
    }
   ],
   "source": [
    "element_list=list(map(int,input().split()))\n",
    "element_dict={}\n",
    "count=0\n",
    "for i in element_list:\n",
    "    if i in element_dict.keys():\n",
    "        element_dict[i]+=1\n",
    "    else:\n",
    "        element_dict[i]=1\n",
    "for key,value in element_dict.items():\n",
    "    if value==1:\n",
    "        print(key)"
   ]
  },
  {
   "cell_type": "code",
   "execution_count": 73,
   "metadata": {},
   "outputs": [
    {
     "name": "stdin",
     "output_type": "stream",
     "text": [
      " 1 3 5 4 2 6\n"
     ]
    },
    {
     "name": "stdout",
     "output_type": "stream",
     "text": [
      "4 3\n"
     ]
    }
   ],
   "source": [
    "mean_list=sorted(list(map(int,input().split())))\n",
    "mean_num=sum(mean_list)/len(mean_list)\n",
    "diff_list=list(map(lambda x:x-mean_num,mean_list))\n",
    "min_num=min(list(map(abs,diff_list)))\n",
    "req_num=int(mean_num+min_num)\n",
    "print(req_num,end=\" \")\n",
    "if(abs(mean_list[mean_list.index(req_num)-1]-mean_num)==min_num):\n",
    "    print(mean_list[mean_list.index(req_num)-1])"
   ]
  },
  {
   "cell_type": "code",
   "execution_count": 16,
   "metadata": {},
   "outputs": [
    {
     "name": "stdin",
     "output_type": "stream",
     "text": [
      " 1 2 3 4 5 6\n"
     ]
    },
    {
     "name": "stdout",
     "output_type": "stream",
     "text": [
      "3.5\n"
     ]
    }
   ],
   "source": [
    "distance_covered=list(map(int,input().split()))\n",
    "print(sum(distance_covered)/len(distance_covered))"
   ]
  },
  {
   "cell_type": "code",
   "execution_count": 28,
   "metadata": {},
   "outputs": [
    {
     "name": "stdin",
     "output_type": "stream",
     "text": [
      " 3\n",
      " 6 5 4 3 2 1\n",
      " 3 3 3 3 3 3\n"
     ]
    },
    {
     "name": "stdout",
     "output_type": "stream",
     "text": [
      "6\n"
     ]
    }
   ],
   "source": [
    "station_num=int(input())\n",
    "onboarding=list(map(int,input().split()))\n",
    "alighting=list(map(int,input().split()))\n",
    "passengers=[0]*len(onboarding)\n",
    "passengers[0]=onboarding[0]-alighting[0]\n",
    "for i in range(1,len(onboarding)):\n",
    "    passengers[i]=passengers[i-1]+onboarding[i]-alighting[i]\n",
    "print(passengers[station_num])\n"
   ]
  },
  {
   "cell_type": "code",
   "execution_count": 29,
   "metadata": {},
   "outputs": [
    {
     "name": "stdin",
     "output_type": "stream",
     "text": [
      " 1 1 2 2 3 3 4 5 5 5\n",
      " 1 5 2 6 3 3 1 5 4 5\n"
     ]
    },
    {
     "name": "stdout",
     "output_type": "stream",
     "text": [
      "2 "
     ]
    }
   ],
   "source": [
    "original_list=list(map(int,input().split()))\n",
    "modified_list=list(map(int,input().split()))\n",
    "check_dict={}\n",
    "for i in original_list:\n",
    "    if i in check_dict.keys():\n",
    "        check_dict[i]+=1\n",
    "    else:\n",
    "        check_dict[i]=1\n",
    "\n",
    "for i in modified_list:\n",
    "    if i in check_dict.keys():\n",
    "        check_dict[i]-=1\n",
    "    else:\n",
    "        check_dict[i]=-1\n",
    "\n",
    "for key,value in check_dict.items():\n",
    "    if value==1:\n",
    "        print(key,end=\" \")"
   ]
  },
  {
   "cell_type": "code",
   "execution_count": 30,
   "metadata": {},
   "outputs": [
    {
     "name": "stdin",
     "output_type": "stream",
     "text": [
      " 5 6 3 6 2 6 5 8\n",
      " 1 2 3 4 5 6 7\n"
     ]
    },
    {
     "name": "stdout",
     "output_type": "stream",
     "text": [
      "1\n"
     ]
    }
   ],
   "source": [
    "list1=list(map(int,input().split()))\n",
    "list2=list(map(int,input().split()))\n",
    "print(min(list1)-min(list2))"
   ]
  },
  {
   "cell_type": "code",
   "execution_count": 32,
   "metadata": {},
   "outputs": [
    {
     "name": "stdin",
     "output_type": "stream",
     "text": [
      " 1 2 3 4 5 6\n"
     ]
    },
    {
     "name": "stdout",
     "output_type": "stream",
     "text": [
      "1 2 3 "
     ]
    }
   ],
   "source": [
    "input_list=list(map(int,input().split()))\n",
    "mean_of_nums=sum(input_list)/len(input_list)\n",
    "for i in input_list:\n",
    "    if i<mean_of_nums:\n",
    "        print(i,end=\" \")"
   ]
  },
  {
   "cell_type": "code",
   "execution_count": 38,
   "metadata": {},
   "outputs": [
    {
     "name": "stdin",
     "output_type": "stream",
     "text": [
      " 1:60:60\n"
     ]
    },
    {
     "name": "stdout",
     "output_type": "stream",
     "text": [
      "2:1:0\n"
     ]
    }
   ],
   "source": [
    "hours,minutes,seconds=list(map(int,input().split(\":\")))\n",
    "while(seconds>=60):\n",
    "    seconds-=60\n",
    "    minutes+=1\n",
    "while(minutes>=60):\n",
    "    minutes-=60\n",
    "    hours+=1\n",
    "print(str(hours)+\":\"+str(minutes)+\":\"+str(seconds))"
   ]
  },
  {
   "cell_type": "code",
   "execution_count": 8,
   "metadata": {},
   "outputs": [
    {
     "name": "stdin",
     "output_type": "stream",
     "text": [
      " 30/16/2021\n"
     ]
    },
    {
     "name": "stdout",
     "output_type": "stream",
     "text": [
      "30 16 2021\n",
      "30/4/2022\n"
     ]
    }
   ],
   "source": [
    "days,months,year=list(map(int,input().split(\"/\")))\n",
    "print(days,months,year)\n",
    "months31=[1,3,5,7,8,10,12]\n",
    "months30=[4,6,9,11]\n",
    "while(months>12):\n",
    "    months-=12\n",
    "    year+=1\n",
    "while(months<=13 and days>31):\n",
    "    while(days>=31):\n",
    "        if months in months31:\n",
    "            days-=31\n",
    "            months+=1\n",
    "        elif months in months30:\n",
    "            days-=30\n",
    "            months+=1 \n",
    "        else:\n",
    "            days-=28\n",
    "            months+=1\n",
    "    if(months==13):\n",
    "        year+=1\n",
    "        months=1\n",
    "    \n",
    "if months not in months31:\n",
    "    if months in months30:\n",
    "        if days == 31:\n",
    "            days-=30\n",
    "            months+=1\n",
    "    else:\n",
    "        if days>28:\n",
    "            days-=28\n",
    "            months+=1\n",
    "    if(months==13):\n",
    "        months=1\n",
    "        year+=1\n",
    "              \n",
    "print(str(days)+\"/\"+str(months)+\"/\"+str(year))"
   ]
  },
  {
   "cell_type": "code",
   "execution_count": 41,
   "metadata": {},
   "outputs": [
    {
     "name": "stdin",
     "output_type": "stream",
     "text": [
      " 103.139.158.199\n"
     ]
    },
    {
     "name": "stdout",
     "output_type": "stream",
     "text": [
      "1737203399\n"
     ]
    }
   ],
   "source": [
    "ip_address=list(map(int,input().split(\".\")))\n",
    "ip_int=\t(ip_address[0] * (256**3)) + (ip_address[1] * (256**2)) + (ip_address[2] * (256**1)) + (ip_address[3])\n",
    "print(ip_int)"
   ]
  },
  {
   "cell_type": "code",
   "execution_count": 52,
   "metadata": {},
   "outputs": [
    {
     "name": "stdin",
     "output_type": "stream",
     "text": [
      " hello\n"
     ]
    },
    {
     "name": "stdout",
     "output_type": "stream",
     "text": [
      "False\n"
     ]
    }
   ],
   "source": [
    "input_string=str(input())\n",
    "print(sorted(list(input_string))==sorted(set(input_string)))"
   ]
  },
  {
   "cell_type": "code",
   "execution_count": 53,
   "metadata": {},
   "outputs": [
    {
     "name": "stdin",
     "output_type": "stream",
     "text": [
      " hello\n"
     ]
    },
    {
     "name": "stdout",
     "output_type": "stream",
     "text": [
      "['Hello', 'hEllo', 'heLlo', 'helLo', 'hellO']\n"
     ]
    }
   ],
   "source": [
    "input_string=str(input())\n",
    "mexican_wave=[]\n",
    "for i in range(len(input_string)):\n",
    "    mexican_wave.append(input_string[:i]+input_string[i].upper()+input_string[i+1:])\n",
    "print(mexican_wave)"
   ]
  },
  {
   "cell_type": "code",
   "execution_count": 72,
   "metadata": {},
   "outputs": [
    {
     "name": "stdin",
     "output_type": "stream",
     "text": [
      " 95424\n"
     ]
    },
    {
     "name": "stdout",
     "output_type": "stream",
     "text": [
      "9544\n"
     ]
    }
   ],
   "source": [
    "input_list=list(map(int,list(str(input()))))\n",
    "input_list.remove(min(input_list))\n",
    "print(\"\".join(list(map(str,input_list))))"
   ]
  },
  {
   "cell_type": "code",
   "execution_count": 54,
   "metadata": {},
   "outputs": [
    {
     "name": "stdin",
     "output_type": "stream",
     "text": [
      " hello\n"
     ]
    },
    {
     "name": "stdout",
     "output_type": "stream",
     "text": [
      "h repeats 1 times\n",
      "e repeats 1 times\n",
      "l repeats 2 times\n",
      "o repeats 1 times\n"
     ]
    }
   ],
   "source": [
    "input_string=str(input())\n",
    "word_freq={}\n",
    "for i in input_string:\n",
    "    if i in word_freq.keys():\n",
    "        word_freq[i]+=1\n",
    "    else:\n",
    "        word_freq[i]=1\n",
    "for key,value in word_freq.items():\n",
    "    print(\"{} repeats {} times\".format(key,value))"
   ]
  },
  {
   "cell_type": "code",
   "execution_count": 10,
   "metadata": {},
   "outputs": [
    {
     "name": "stdin",
     "output_type": "stream",
     "text": [
      " 123\n"
     ]
    },
    {
     "name": "stdout",
     "output_type": "stream",
     "text": [
      "0x7b\n"
     ]
    }
   ],
   "source": [
    "RGB_input=list(map(int,input().strip(\"()\").split(\",\")))\n",
    "HEXvalue=\"0x\"\n",
    "for i in RGB_input:\n",
    "    HEXvalue+=hex(i)[2:]\n",
    "print(HEXvalue)"
   ]
  },
  {
   "cell_type": "code",
   "execution_count": 67,
   "metadata": {},
   "outputs": [
    {
     "name": "stdin",
     "output_type": "stream",
     "text": [
      " abcd\n"
     ]
    },
    {
     "name": "stdout",
     "output_type": "stream",
     "text": [
      "A-Bb-Ccc-Dddd\n"
     ]
    }
   ],
   "source": [
    "input_string=str(input()).upper()\n",
    "acc_list=[]\n",
    "count=0\n",
    "for i in input_string:\n",
    "    acc_list.append(i+chr(ord(i)+32)*count)\n",
    "    count+=1\n",
    "print(\"-\".join(acc_list))"
   ]
  },
  {
   "cell_type": "code",
   "execution_count": 20,
   "metadata": {},
   "outputs": [
    {
     "name": "stdout",
     "output_type": "stream",
     "text": [
      "6\n"
     ]
    }
   ],
   "source": [
    "def testfunction(a,b=1,c=2):\n",
    "    return a*b*c\n",
    "\n",
    "print(testfunction(b=3,a=1))"
   ]
  },
  {
   "cell_type": "code",
   "execution_count": 22,
   "metadata": {},
   "outputs": [
    {
     "name": "stdout",
     "output_type": "stream",
     "text": [
      "2228671013696\n",
      "0 0\n",
      "2228671013696\n",
      "[]\n",
      "[]\n",
      "2228671663744\n"
     ]
    }
   ],
   "source": [
    "list1=[1,2,3,4,5]\n",
    "print(id(list1))\n",
    "list2=list1\n",
    "list3=list1[:]\n",
    "del list1[:]\n",
    "print(len(list1),len(list2))\n",
    "print(id(list2))\n",
    "print(list2)\n",
    "\n",
    "print(list2)\n",
    "\n",
    "print(id(list3))\n"
   ]
  },
  {
   "cell_type": "code",
   "execution_count": 2,
   "metadata": {},
   "outputs": [
    {
     "name": "stdout",
     "output_type": "stream",
     "text": [
      "[None, 'Hello', None]\n"
     ]
    }
   ],
   "source": [
    "list1=[None,\"Hello\",None]\n",
    "for i in list1:\n",
    "    if i is not None:\n",
    "        i=i.upper()\n",
    "print(list1)"
   ]
  },
  {
   "cell_type": "code",
   "execution_count": null,
   "metadata": {},
   "outputs": [],
   "source": [
    "list(map(lambda x:x.lower(),list(filter(lambda x:x is not None,list_names))))"
   ]
  },
  {
   "cell_type": "code",
   "execution_count": 1,
   "metadata": {},
   "outputs": [
    {
     "name": "stdout",
     "output_type": "stream",
     "text": [
      "0 [1, 2, 3]\n",
      "1 [4, 5, 6]\n",
      "2 [8, 9, 10]\n"
     ]
    }
   ],
   "source": [
    "list1=[[1,2,3],[4,5,6],[8,9,10]]\n",
    "for count,i in enumerate(list1):\n",
    "    print(count,i)"
   ]
  },
  {
   "cell_type": "code",
   "execution_count": null,
   "metadata": {},
   "outputs": [],
   "source": []
  }
 ],
 "metadata": {
  "kernelspec": {
   "display_name": "Python 3",
   "language": "python",
   "name": "python3"
  },
  "language_info": {
   "codemirror_mode": {
    "name": "ipython",
    "version": 3
   },
   "file_extension": ".py",
   "mimetype": "text/x-python",
   "name": "python",
   "nbconvert_exporter": "python",
   "pygments_lexer": "ipython3",
   "version": "3.8.5"
  }
 },
 "nbformat": 4,
 "nbformat_minor": 4
}
