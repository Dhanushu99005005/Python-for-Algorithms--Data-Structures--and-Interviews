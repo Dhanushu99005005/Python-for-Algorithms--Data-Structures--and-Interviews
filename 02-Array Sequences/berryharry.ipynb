{
 "cells": [
  {
   "cell_type": "code",
   "execution_count": 1,
   "metadata": {},
   "outputs": [
    {
     "name": "stdin",
     "output_type": "stream",
     "text": [
      " 5\n",
      " Harry\n",
      " 37.21\n",
      " Berry\n",
      " 37.21\n",
      " Tina\n",
      " 37.2\n",
      " Akriti\n",
      " 41\n",
      " Harsh\n",
      " 39\n"
     ]
    }
   ],
   "source": [
    "n=int(input())\n",
    "att={}\n",
    "for i in range(n):\n",
    "    name = input()\n",
    "    score = float(input())\n",
    "    att[name]=score  "
   ]
  },
  {
   "cell_type": "code",
   "execution_count": 2,
   "metadata": {},
   "outputs": [
    {
     "data": {
      "text/plain": [
       "{'Tina': 37.2, 'Harry': 37.21, 'Berry': 37.21, 'Harsh': 39.0, 'Akriti': 41.0}"
      ]
     },
     "execution_count": 2,
     "metadata": {},
     "output_type": "execute_result"
    }
   ],
   "source": [
    "newatt=dict(sorted(att.items(), key=lambda item: item[1]))\n",
    "newatt"
   ]
  },
  {
   "cell_type": "code",
   "execution_count": 3,
   "metadata": {},
   "outputs": [],
   "source": [
    "length=len(newatt)"
   ]
  },
  {
   "cell_type": "code",
   "execution_count": 4,
   "metadata": {},
   "outputs": [
    {
     "name": "stdout",
     "output_type": "stream",
     "text": [
      "37.21\n"
     ]
    }
   ],
   "source": [
    "mini=min(newatt.values())\n",
    "update=0\n",
    "newupdate=max(newatt.values())\n",
    "for i in newatt.values():\n",
    "    if i>mini:\n",
    "        update=i\n",
    "        newupdate=min(update,newupdate)\n",
    "print(newupdate)"
   ]
  },
  {
   "cell_type": "code",
   "execution_count": 5,
   "metadata": {},
   "outputs": [
    {
     "data": {
      "text/plain": [
       "['Berry', 'Harry']"
      ]
     },
     "execution_count": 5,
     "metadata": {},
     "output_type": "execute_result"
    }
   ],
   "source": [
    "solutionarr=sorted([key for key,value in newatt.items() if value==newupdate])\n",
    "solutionarr"
   ]
  },
  {
   "cell_type": "code",
   "execution_count": 3,
   "metadata": {},
   "outputs": [
    {
     "data": {
      "text/plain": [
       "['a']"
      ]
     },
     "execution_count": 3,
     "metadata": {},
     "output_type": "execute_result"
    }
   ],
   "source": [
    "dicti={\"a\":1,\"b\":2,\"c\":3}\n",
    "list(filter(lambda x:x==\"a\",dicti.keys()))"
   ]
  },
  {
   "cell_type": "code",
   "execution_count": 2,
   "metadata": {},
   "outputs": [
    {
     "data": {
      "text/plain": [
       "[0, 1, 3, 3, 5, 5, 8, 9, 10, 10, 20, 30]"
      ]
     },
     "execution_count": 2,
     "metadata": {},
     "output_type": "execute_result"
    }
   ],
   "source": [
    "check=[10,10,8,5,3,5,30,20,3,1,9,0]\n",
    "sorch=sorted(check)\n",
    "sorch"
   ]
  },
  {
   "cell_type": "code",
   "execution_count": 3,
   "metadata": {},
   "outputs": [
    {
     "name": "stdout",
     "output_type": "stream",
     "text": [
      "9\n"
     ]
    }
   ],
   "source": [
    "update=sorch[0]\n",
    "maxi=max(sorch)\n",
    "j=0\n",
    "while(j<3):\n",
    "    for i in sorch[1:]:\n",
    "        if i<maxi:\n",
    "            update=max(update,i)\n",
    "    maxi=update\n",
    "    update=sorch[0]\n",
    "    j+=1\n",
    "print(maxi)"
   ]
  },
  {
   "cell_type": "code",
   "execution_count": null,
   "metadata": {},
   "outputs": [],
   "source": []
  }
 ],
 "metadata": {
  "kernelspec": {
   "display_name": "Python 3",
   "language": "python",
   "name": "python3"
  },
  "language_info": {
   "codemirror_mode": {
    "name": "ipython",
    "version": 3
   },
   "file_extension": ".py",
   "mimetype": "text/x-python",
   "name": "python",
   "nbconvert_exporter": "python",
   "pygments_lexer": "ipython3",
   "version": "3.8.5"
  }
 },
 "nbformat": 4,
 "nbformat_minor": 4
}
