{
 "cells": [
  {
   "cell_type": "code",
   "execution_count": 1,
   "metadata": {},
   "outputs": [
    {
     "name": "stdout",
     "output_type": "stream",
     "text": [
      "1\n",
      "2 2 1\n",
      "22\n",
      "3 3 1\n",
      "33 3 2\n",
      "333\n",
      "4 4 1\n",
      "44 4 2\n",
      "444 4 3\n",
      "4444\n",
      "5 5 1\n",
      "55 5 2\n",
      "555 5 3\n",
      "5555 5 4\n",
      "55555\n",
      "6 6 1\n",
      "66 6 2\n",
      "666 6 3\n",
      "6666 6 4\n",
      "66666 6 5\n",
      "666666\n",
      "7 7 1\n",
      "77 7 2\n",
      "777 7 3\n",
      "7777 7 4\n",
      "77777 7 5\n",
      "777777 7 6\n",
      "7777777\n",
      "8 8 1\n",
      "88 8 2\n",
      "888 8 3\n",
      "8888 8 4\n",
      "88888 8 5\n",
      "888888 8 6\n",
      "8888888 8 7\n",
      "88888888\n",
      "9 9 1\n",
      "99 9 2\n",
      "999 9 3\n",
      "9999 9 4\n",
      "99999 9 5\n",
      "999999 9 6\n",
      "9999999 9 7\n",
      "99999999 9 8\n",
      "999999999\n",
      "10 10 1\n",
      "1010 10 2\n",
      "101010 10 3\n",
      "10101010 10 4\n",
      "1010101010 10 5\n",
      "101010101010 10 6\n",
      "10101010101010 10 7\n",
      "1010101010101010 10 8\n",
      "101010101010101010 10 9\n",
      "10101010101010101010\n",
      "11 11 1\n",
      "1111 11 2\n",
      "111111 11 3\n",
      "11111111 11 4\n",
      "1111111111 11 5\n",
      "111111111111 11 6\n",
      "11111111111111 11 7\n",
      "1111111111111111 11 8\n",
      "111111111111111111 11 9\n",
      "11111111111111111111 11 10\n",
      "1111111111111111111111\n"
     ]
    }
   ],
   "source": [
    "for i in range(1,12):\n",
    "    num_of_counts=1\n",
    "    n=i\n",
    "    l=len(str(i))\n",
    "    inc=l\n",
    "    while(num_of_counts<i):\n",
    "        \n",
    "        print(n,i,num_of_counts)\n",
    "        n+=i*(10**inc)\n",
    "        inc+=l\n",
    "        num_of_counts+=1\n",
    "    print(n)  \n",
    "        "
   ]
  },
  {
   "cell_type": "code",
   "execution_count": 3,
   "metadata": {},
   "outputs": [
    {
     "name": "stdout",
     "output_type": "stream",
     "text": [
      "3\n",
      "4\n"
     ]
    },
    {
     "data": {
      "text/plain": [
       "5"
      ]
     },
     "execution_count": 3,
     "metadata": {},
     "output_type": "execute_result"
    }
   ],
   "source": [
    "arr=[1,4,3,5]\n",
    "newarr=sorted(arr)\n",
    "print(newarr[1])\n",
    "print(len(newarr))\n",
    "max(newarr)"
   ]
  },
  {
   "cell_type": "code",
   "execution_count": 15,
   "metadata": {},
   "outputs": [
    {
     "data": {
      "text/plain": [
       "[1, 3, 4, 5]"
      ]
     },
     "execution_count": 15,
     "metadata": {},
     "output_type": "execute_result"
    }
   ],
   "source": [
    "newarr\n"
   ]
  },
  {
   "cell_type": "code",
   "execution_count": null,
   "metadata": {},
   "outputs": [],
   "source": []
  }
 ],
 "metadata": {
  "kernelspec": {
   "display_name": "Python 3",
   "language": "python",
   "name": "python3"
  },
  "language_info": {
   "codemirror_mode": {
    "name": "ipython",
    "version": 3
   },
   "file_extension": ".py",
   "mimetype": "text/x-python",
   "name": "python",
   "nbconvert_exporter": "python",
   "pygments_lexer": "ipython3",
   "version": "3.8.5"
  }
 },
 "nbformat": 4,
 "nbformat_minor": 4
}
