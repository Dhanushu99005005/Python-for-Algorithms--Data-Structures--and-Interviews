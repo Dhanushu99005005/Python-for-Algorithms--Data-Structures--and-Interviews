{
 "cells": [
  {
   "cell_type": "code",
   "execution_count": 3,
   "metadata": {},
   "outputs": [
    {
     "name": "stdout",
     "output_type": "stream",
     "text": [
      "3\n"
     ]
    }
   ],
   "source": [
    "arr=[3,2,4,1]\n",
    "sortedarr=sorted(arr)\n",
    "update=0\n",
    "for i in sortedarr:\n",
    "    if i<max(sortedarr):\n",
    "        update=i\n",
    "        newupdate=max(update,newupdate)\n",
    "print(newupdate)"
   ]
  },
  {
   "cell_type": "code",
   "execution_count": 4,
   "metadata": {},
   "outputs": [
    {
     "data": {
      "text/plain": [
       "6"
      ]
     },
     "execution_count": 4,
     "metadata": {},
     "output_type": "execute_result"
    }
   ],
   "source": [
    "list1=[1,2,3]\n",
    "sum(list1)"
   ]
  },
  {
   "cell_type": "code",
   "execution_count": 5,
   "metadata": {},
   "outputs": [],
   "source": [
    "student_marks={'Krishna': [67.0, 68.0, 69.0], 'Arjun': [70.0, 98.0, 63.0], 'Malika': [52.0, 56.0, 60.0]}"
   ]
  },
  {
   "cell_type": "code",
   "execution_count": 12,
   "metadata": {},
   "outputs": [
    {
     "name": "stdout",
     "output_type": "stream",
     "text": [
      "Krishna [67.0, 68.0, 69.0]\n",
      "Arjun [70.0, 98.0, 63.0]\n",
      "77.00\n",
      "Malika [52.0, 56.0, 60.0]\n"
     ]
    }
   ],
   "source": [
    "for key,value in student_marks.items():\n",
    "    print(key,value)\n",
    "    if(key=='Arjun'):\n",
    "        average=sum(value)/len(value)\n",
    "        print(\"%0.2f\" %(average))"
   ]
  },
  {
   "cell_type": "code",
   "execution_count": 4,
   "metadata": {},
   "outputs": [
    {
     "data": {
      "text/plain": [
       "['\"Nikhil\" : 1', ' \"Akshat\" : 2', ' \"Akash\" : 3']"
      ]
     },
     "execution_count": 4,
     "metadata": {},
     "output_type": "execute_result"
    }
   ],
   "source": [
    "test_string = '{\"Nikhil\" : 1, \"Akshat\" : 2, \"Akash\" : 3}'.strip('{}').split(\",\")\n",
    "test_string"
   ]
  },
  {
   "cell_type": "code",
   "execution_count": 19,
   "metadata": {},
   "outputs": [
    {
     "name": "stdout",
     "output_type": "stream",
     "text": [
      "['\"Nikhil\" ', ' 1']\n",
      "[' \"Akshat\" ', ' 2']\n",
      "[' \"Akash\" ', ' 3']\n"
     ]
    }
   ],
   "source": [
    "for i in test_string:\n",
    "    print(i.split(\":\"))"
   ]
  },
  {
   "cell_type": "code",
   "execution_count": null,
   "metadata": {},
   "outputs": [],
   "source": []
  }
 ],
 "metadata": {
  "kernelspec": {
   "display_name": "Python 3",
   "language": "python",
   "name": "python3"
  },
  "language_info": {
   "codemirror_mode": {
    "name": "ipython",
    "version": 3
   },
   "file_extension": ".py",
   "mimetype": "text/x-python",
   "name": "python",
   "nbconvert_exporter": "python",
   "pygments_lexer": "ipython3",
   "version": "3.8.5"
  }
 },
 "nbformat": 4,
 "nbformat_minor": 4
}
